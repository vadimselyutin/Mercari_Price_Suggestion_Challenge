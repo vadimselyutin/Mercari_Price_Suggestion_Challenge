{
 "cells": [
  {
   "cell_type": "markdown",
   "metadata": {},
   "source": [
    "# Отчет о решении задачи \"Mercari Price Suggestion Challenge\""
   ]
  },
  {
   "cell_type": "markdown",
   "metadata": {},
   "source": [
    "### Селютин Вадим, 578 группа"
   ]
  },
  {
   "cell_type": "markdown",
   "metadata": {},
   "source": [
    "Конкурс Kaggle: https://www.kaggle.com/c/mercari-price-suggestion-challenge"
   ]
  },
  {
   "cell_type": "markdown",
   "metadata": {},
   "source": [
    "Иногда бывает довольно сложно угадать, сколько на самом деле стоит та или иная вещь. Даже маленькие детали могут иметь большое значение. Вычисление цены становится на порядок сложнее, когда речь идет об онлайн продажах. Например, на ценообразование одежды сильно влияет сезон, когда цены на электронику колеблются в зависимости от спецификации продукта. Целью данной задачи является предсказание цены товара, исходя из его описания, которое включает в себя название товара (name), его состояние (item_condition_id), категорию (category_name), название бренда (brand_name), цену (price), индикатор оплаты доставки товара покупателем или продавцом (shipping = {1,0}) и текстовое описание (item_description)."
   ]
  },
  {
   "cell_type": "markdown",
   "metadata": {},
   "source": [
    "Подключим необходимые библиотеки."
   ]
  },
  {
   "cell_type": "code",
   "execution_count": 1,
   "metadata": {},
   "outputs": [],
   "source": [
    "import numpy as np\n",
    "import pandas as pd\n",
    "import math\n",
    "import matplotlib.pyplot as plt\n",
    "import plotly\n",
    "import plotly.plotly as py\n",
    "import plotly.graph_objs as go\n",
    "from nltk.corpus import stopwords\n",
    "from nltk.tokenize import punkt\n",
    "from nltk.tokenize import word_tokenize\n",
    "from string import punctuation\n",
    "from sklearn.feature_extraction.text import TfidfVectorizer, CountVectorizer\n",
    "from sklearn.decomposition import TruncatedSVD\n",
    "import seaborn as sb"
   ]
  },
  {
   "cell_type": "markdown",
   "metadata": {},
   "source": [
    "# Data analysis"
   ]
  },
  {
   "cell_type": "markdown",
   "metadata": {},
   "source": [
    "Считаем предоставленные данные и посмотрим на несколько первых элементов."
   ]
  },
  {
   "cell_type": "code",
   "execution_count": 65,
   "metadata": {},
   "outputs": [],
   "source": [
    "train = pd.read_csv('train.tsv', sep='\\t')\n",
    "test = pd.read_csv('test_stg2.tsv', sep='\\t')"
   ]
  },
  {
   "cell_type": "code",
   "execution_count": 66,
   "metadata": {},
   "outputs": [
    {
     "data": {
      "text/html": [
       "<div>\n",
       "<style scoped>\n",
       "    .dataframe tbody tr th:only-of-type {\n",
       "        vertical-align: middle;\n",
       "    }\n",
       "\n",
       "    .dataframe tbody tr th {\n",
       "        vertical-align: top;\n",
       "    }\n",
       "\n",
       "    .dataframe thead th {\n",
       "        text-align: right;\n",
       "    }\n",
       "</style>\n",
       "<table border=\"1\" class=\"dataframe\">\n",
       "  <thead>\n",
       "    <tr style=\"text-align: right;\">\n",
       "      <th></th>\n",
       "      <th>train_id</th>\n",
       "      <th>name</th>\n",
       "      <th>item_condition_id</th>\n",
       "      <th>category_name</th>\n",
       "      <th>brand_name</th>\n",
       "      <th>price</th>\n",
       "      <th>shipping</th>\n",
       "      <th>item_description</th>\n",
       "    </tr>\n",
       "  </thead>\n",
       "  <tbody>\n",
       "    <tr>\n",
       "      <th>0</th>\n",
       "      <td>0</td>\n",
       "      <td>MLB Cincinnati Reds T Shirt Size XL</td>\n",
       "      <td>3</td>\n",
       "      <td>Men/Tops/T-shirts</td>\n",
       "      <td>NaN</td>\n",
       "      <td>10.0</td>\n",
       "      <td>1</td>\n",
       "      <td>No description yet</td>\n",
       "    </tr>\n",
       "    <tr>\n",
       "      <th>1</th>\n",
       "      <td>1</td>\n",
       "      <td>Razer BlackWidow Chroma Keyboard</td>\n",
       "      <td>3</td>\n",
       "      <td>Electronics/Computers &amp; Tablets/Components &amp; P...</td>\n",
       "      <td>Razer</td>\n",
       "      <td>52.0</td>\n",
       "      <td>0</td>\n",
       "      <td>This keyboard is in great condition and works ...</td>\n",
       "    </tr>\n",
       "    <tr>\n",
       "      <th>2</th>\n",
       "      <td>2</td>\n",
       "      <td>AVA-VIV Blouse</td>\n",
       "      <td>1</td>\n",
       "      <td>Women/Tops &amp; Blouses/Blouse</td>\n",
       "      <td>Target</td>\n",
       "      <td>10.0</td>\n",
       "      <td>1</td>\n",
       "      <td>Adorable top with a hint of lace and a key hol...</td>\n",
       "    </tr>\n",
       "    <tr>\n",
       "      <th>3</th>\n",
       "      <td>3</td>\n",
       "      <td>Leather Horse Statues</td>\n",
       "      <td>1</td>\n",
       "      <td>Home/Home Décor/Home Décor Accents</td>\n",
       "      <td>NaN</td>\n",
       "      <td>35.0</td>\n",
       "      <td>1</td>\n",
       "      <td>New with tags. Leather horses. Retail for [rm]...</td>\n",
       "    </tr>\n",
       "    <tr>\n",
       "      <th>4</th>\n",
       "      <td>4</td>\n",
       "      <td>24K GOLD plated rose</td>\n",
       "      <td>1</td>\n",
       "      <td>Women/Jewelry/Necklaces</td>\n",
       "      <td>NaN</td>\n",
       "      <td>44.0</td>\n",
       "      <td>0</td>\n",
       "      <td>Complete with certificate of authenticity</td>\n",
       "    </tr>\n",
       "  </tbody>\n",
       "</table>\n",
       "</div>"
      ],
      "text/plain": [
       "   train_id                                 name  item_condition_id  \\\n",
       "0         0  MLB Cincinnati Reds T Shirt Size XL                  3   \n",
       "1         1     Razer BlackWidow Chroma Keyboard                  3   \n",
       "2         2                       AVA-VIV Blouse                  1   \n",
       "3         3                Leather Horse Statues                  1   \n",
       "4         4                 24K GOLD plated rose                  1   \n",
       "\n",
       "                                       category_name brand_name  price  \\\n",
       "0                                  Men/Tops/T-shirts        NaN   10.0   \n",
       "1  Electronics/Computers & Tablets/Components & P...      Razer   52.0   \n",
       "2                        Women/Tops & Blouses/Blouse     Target   10.0   \n",
       "3                 Home/Home Décor/Home Décor Accents        NaN   35.0   \n",
       "4                            Women/Jewelry/Necklaces        NaN   44.0   \n",
       "\n",
       "   shipping                                   item_description  \n",
       "0         1                                 No description yet  \n",
       "1         0  This keyboard is in great condition and works ...  \n",
       "2         1  Adorable top with a hint of lace and a key hol...  \n",
       "3         1  New with tags. Leather horses. Retail for [rm]...  \n",
       "4         0          Complete with certificate of authenticity  "
      ]
     },
     "execution_count": 66,
     "metadata": {},
     "output_type": "execute_result"
    }
   ],
   "source": [
    "train.head()"
   ]
  },
  {
   "cell_type": "code",
   "execution_count": 67,
   "metadata": {},
   "outputs": [
    {
     "data": {
      "text/html": [
       "<div>\n",
       "<style scoped>\n",
       "    .dataframe tbody tr th:only-of-type {\n",
       "        vertical-align: middle;\n",
       "    }\n",
       "\n",
       "    .dataframe tbody tr th {\n",
       "        vertical-align: top;\n",
       "    }\n",
       "\n",
       "    .dataframe thead th {\n",
       "        text-align: right;\n",
       "    }\n",
       "</style>\n",
       "<table border=\"1\" class=\"dataframe\">\n",
       "  <thead>\n",
       "    <tr style=\"text-align: right;\">\n",
       "      <th></th>\n",
       "      <th>test_id</th>\n",
       "      <th>name</th>\n",
       "      <th>item_condition_id</th>\n",
       "      <th>category_name</th>\n",
       "      <th>brand_name</th>\n",
       "      <th>shipping</th>\n",
       "      <th>item_description</th>\n",
       "    </tr>\n",
       "  </thead>\n",
       "  <tbody>\n",
       "    <tr>\n",
       "      <th>0</th>\n",
       "      <td>0</td>\n",
       "      <td>Breast cancer \"I fight like a girl\" ring</td>\n",
       "      <td>1</td>\n",
       "      <td>Women/Jewelry/Rings</td>\n",
       "      <td>NaN</td>\n",
       "      <td>1</td>\n",
       "      <td>Size 7</td>\n",
       "    </tr>\n",
       "    <tr>\n",
       "      <th>1</th>\n",
       "      <td>1</td>\n",
       "      <td>25 pcs NEW 7.5\"x12\" Kraft Bubble Mailers</td>\n",
       "      <td>1</td>\n",
       "      <td>Other/Office supplies/Shipping Supplies</td>\n",
       "      <td>NaN</td>\n",
       "      <td>1</td>\n",
       "      <td>25 pcs NEW 7.5\"x12\" Kraft Bubble Mailers Lined...</td>\n",
       "    </tr>\n",
       "    <tr>\n",
       "      <th>2</th>\n",
       "      <td>2</td>\n",
       "      <td>Coach bag</td>\n",
       "      <td>1</td>\n",
       "      <td>Vintage &amp; Collectibles/Bags and Purses/Handbag</td>\n",
       "      <td>Coach</td>\n",
       "      <td>1</td>\n",
       "      <td>Brand new coach bag. Bought for [rm] at a Coac...</td>\n",
       "    </tr>\n",
       "    <tr>\n",
       "      <th>3</th>\n",
       "      <td>3</td>\n",
       "      <td>Floral Kimono</td>\n",
       "      <td>2</td>\n",
       "      <td>Women/Sweaters/Cardigan</td>\n",
       "      <td>NaN</td>\n",
       "      <td>0</td>\n",
       "      <td>-floral kimono -never worn -lightweight and pe...</td>\n",
       "    </tr>\n",
       "    <tr>\n",
       "      <th>4</th>\n",
       "      <td>4</td>\n",
       "      <td>Life after Death</td>\n",
       "      <td>3</td>\n",
       "      <td>Other/Books/Religion &amp; Spirituality</td>\n",
       "      <td>NaN</td>\n",
       "      <td>1</td>\n",
       "      <td>Rediscovering life after the loss of a loved o...</td>\n",
       "    </tr>\n",
       "  </tbody>\n",
       "</table>\n",
       "</div>"
      ],
      "text/plain": [
       "   test_id                                      name  item_condition_id  \\\n",
       "0        0  Breast cancer \"I fight like a girl\" ring                  1   \n",
       "1        1  25 pcs NEW 7.5\"x12\" Kraft Bubble Mailers                  1   \n",
       "2        2                                 Coach bag                  1   \n",
       "3        3                             Floral Kimono                  2   \n",
       "4        4                          Life after Death                  3   \n",
       "\n",
       "                                    category_name brand_name  shipping  \\\n",
       "0                             Women/Jewelry/Rings        NaN         1   \n",
       "1         Other/Office supplies/Shipping Supplies        NaN         1   \n",
       "2  Vintage & Collectibles/Bags and Purses/Handbag      Coach         1   \n",
       "3                         Women/Sweaters/Cardigan        NaN         0   \n",
       "4             Other/Books/Religion & Spirituality        NaN         1   \n",
       "\n",
       "                                    item_description  \n",
       "0                                             Size 7  \n",
       "1  25 pcs NEW 7.5\"x12\" Kraft Bubble Mailers Lined...  \n",
       "2  Brand new coach bag. Bought for [rm] at a Coac...  \n",
       "3  -floral kimono -never worn -lightweight and pe...  \n",
       "4  Rediscovering life after the loss of a loved o...  "
      ]
     },
     "execution_count": 67,
     "metadata": {},
     "output_type": "execute_result"
    }
   ],
   "source": [
    "test.head()"
   ]
  },
  {
   "cell_type": "markdown",
   "metadata": {},
   "source": [
    "Наборы данных содержат 3 дискретных признака (test_id/train_id, item_condition_id, shipping), 3 категориальных (name, category_name, item_descrition) и 1 вещественный (price)."
   ]
  },
  {
   "cell_type": "markdown",
   "metadata": {},
   "source": [
    "Посмотрим на размер и тип входных данных."
   ]
  },
  {
   "cell_type": "code",
   "execution_count": 68,
   "metadata": {},
   "outputs": [
    {
     "name": "stdout",
     "output_type": "stream",
     "text": [
      "(1482535, 8)\n",
      "(3460725, 7)\n"
     ]
    }
   ],
   "source": [
    "print(train.shape)\n",
    "print(test.shape)"
   ]
  },
  {
   "cell_type": "code",
   "execution_count": 69,
   "metadata": {},
   "outputs": [
    {
     "data": {
      "text/plain": [
       "train_id               int64\n",
       "name                  object\n",
       "item_condition_id      int64\n",
       "category_name         object\n",
       "brand_name            object\n",
       "price                float64\n",
       "shipping               int64\n",
       "item_description      object\n",
       "dtype: object"
      ]
     },
     "execution_count": 69,
     "metadata": {},
     "output_type": "execute_result"
    }
   ],
   "source": [
    "train.dtypes"
   ]
  },
  {
   "cell_type": "markdown",
   "metadata": {},
   "source": [
    "## Price"
   ]
  },
  {
   "cell_type": "markdown",
   "metadata": {},
   "source": [
    "Рассмотрим целевую переменную price."
   ]
  },
  {
   "cell_type": "markdown",
   "metadata": {},
   "source": [
    "Средняя цена составляет примерно \\$267, минимальная - \\$0, а максимальная - \\$2009."
   ]
  },
  {
   "cell_type": "code",
   "execution_count": 70,
   "metadata": {},
   "outputs": [
    {
     "data": {
      "text/plain": [
       "count    1.482535e+06\n",
       "mean     2.673752e+01\n",
       "std      3.858607e+01\n",
       "min      0.000000e+00\n",
       "25%      1.000000e+01\n",
       "50%      1.700000e+01\n",
       "75%      2.900000e+01\n",
       "max      2.009000e+03\n",
       "Name: price, dtype: float64"
      ]
     },
     "execution_count": 70,
     "metadata": {},
     "output_type": "execute_result"
    }
   ],
   "source": [
    "train.price.describe()"
   ]
  },
  {
   "cell_type": "markdown",
   "metadata": {},
   "source": [
    "Видим, что распределение цен сильно смещено влево."
   ]
  },
  {
   "cell_type": "code",
   "execution_count": 71,
   "metadata": {},
   "outputs": [
    {
     "data": {
      "image/png": "[encoded data removed]",
      "text/plain": [
       "<matplotlib.figure.Figure at 0x209a72240>"
      ]
     },
     "metadata": {},
     "output_type": "display_data"
    }
   ],
   "source": [
    "plt.figure(figsize=(20, 15))\n",
    "plt.hist(train['price'], bins=50, range=[0,250], label='price', edgecolor='white')\n",
    "plt.title('Price Distribution - Training Set', fontsize=17)\n",
    "plt.xlabel('Price', fontsize=17)\n",
    "plt.ylabel('Frequency', fontsize=17)\n",
    "plt.xticks(fontsize=15)\n",
    "plt.yticks(fontsize=15)\n",
    "plt.legend(fontsize=15)\n",
    "plt.show()"
   ]
  },
  {
   "cell_type": "markdown",
   "metadata": {},
   "source": [
    "## Shipping"
   ]
  },
  {
   "cell_type": "markdown",
   "metadata": {},
   "source": [
    "Больше половины всех перевозок товаров было оплачено продавцами."
   ]
  },
  {
   "cell_type": "code",
   "execution_count": 72,
   "metadata": {},
   "outputs": [
    {
     "data": {
      "text/plain": [
       "0    0.552726\n",
       "1    0.447274\n",
       "Name: shipping, dtype: float64"
      ]
     },
     "execution_count": 72,
     "metadata": {},
     "output_type": "execute_result"
    }
   ],
   "source": [
    "train.shipping.value_counts()/len(train)"
   ]
  },
  {
   "cell_type": "markdown",
   "metadata": {},
   "source": [
    "Из распределения видно, что в среднем цена товара, когда покупатель сам оплачивает транспортировку, ниже цены, когда транспортировку оплачивает продавец."
   ]
  },
  {
   "cell_type": "code",
   "execution_count": 73,
   "metadata": {},
   "outputs": [
    {
     "data": {
      "image/png": "[encoded data removed]",
      "text/plain": [
       "<matplotlib.figure.Figure at 0xb19aa438>"
      ]
     },
     "metadata": {},
     "output_type": "display_data"
    }
   ],
   "source": [
    "plt.figure(figsize=(20, 15))\n",
    "plt.hist(train[train['shipping']==1]['price'], bins=50, normed=True, range=[0,250],\n",
    "         alpha=1, label='Price when seller pays shipping')\n",
    "plt.hist(train[train['shipping']==0]['price'], bins=50, normed=True, range=[0,250],\n",
    "         alpha=0.6, label='Price when buyer pays shipping')\n",
    "plt.title('Price Distribution by Shipping Type', fontsize=17)\n",
    "plt.xlabel('Price', fontsize=17)\n",
    "plt.ylabel('Frequency', fontsize=17)\n",
    "plt.legend(fontsize=15)\n",
    "plt.xticks(fontsize=15)\n",
    "plt.yticks(fontsize=15)\n",
    "plt.show()"
   ]
  },
  {
   "cell_type": "markdown",
   "metadata": {},
   "source": [
    "## Brand name"
   ]
  },
  {
   "cell_type": "markdown",
   "metadata": {},
   "source": [
    "Количество брендов в обучающей и тестовой выборках составило 4809 и 3900 соответственно."
   ]
  },
  {
   "cell_type": "code",
   "execution_count": 74,
   "metadata": {},
   "outputs": [
    {
     "name": "stdout",
     "output_type": "stream",
     "text": [
      "Number of unique brand names in train set = 4809.\n",
      "Number of unique brand names in test set = 5860.\n"
     ]
    }
   ],
   "source": [
    "print(\"Number of unique brand names in train set = %d.\" % train['brand_name'].nunique())\n",
    "print(\"Number of unique brand names in test set = %d.\" % test['brand_name'].nunique())"
   ]
  },
  {
   "cell_type": "code",
   "execution_count": 75,
   "metadata": {},
   "outputs": [
    {
     "data": {
      "image/png": "[encoded data removed]",
      "text/plain": [
       "<matplotlib.figure.Figure at 0xfac28c18>"
      ]
     },
     "metadata": {},
     "output_type": "display_data"
    }
   ],
   "source": [
    "plt.figure(figsize=(20, 15))\n",
    "plt.hist(train[train['brand_name']==train['brand_name']]['price'], bins=50, normed=True, range=[0,250],\n",
    "         alpha=1, label='Price of the items with brand name')\n",
    "plt.hist(train[train['brand_name']!=train['brand_name']]['price'], bins=50, normed=True, range=[0,250],\n",
    "         alpha=0.6, label='Price of the items without brand name')\n",
    "plt.title('Price Distribution by Brand Name Presence', fontsize=17)\n",
    "plt.xlabel('Price', fontsize=17)\n",
    "plt.ylabel('Frequency', fontsize=17)\n",
    "plt.legend(fontsize=15)\n",
    "plt.xticks(fontsize=15)\n",
    "plt.yticks(fontsize=15)\n",
    "plt.show()"
   ]
  },
  {
   "cell_type": "markdown",
   "metadata": {},
   "source": [
    "## Item category"
   ]
  },
  {
   "cell_type": "markdown",
   "metadata": {},
   "source": [
    "Всего в обучающей выборке 1287 категорий товаров, каждая из которых состоит из трех подкатегорий."
   ]
  },
  {
   "cell_type": "code",
   "execution_count": 76,
   "metadata": {},
   "outputs": [
    {
     "name": "stdout",
     "output_type": "stream",
     "text": [
      "Number of unique category names = 1287.\n"
     ]
    }
   ],
   "source": [
    "print(\"Number of unique category names = %d.\" % train['category_name'].nunique())"
   ]
  },
  {
   "cell_type": "markdown",
   "metadata": {},
   "source": [
    "Посмотрим на 5 наиболее часто встречающихся категорий."
   ]
  },
  {
   "cell_type": "code",
   "execution_count": 77,
   "metadata": {},
   "outputs": [
    {
     "name": "stdout",
     "output_type": "stream",
     "text": [
      "Top 5 categories:\n"
     ]
    },
    {
     "data": {
      "text/plain": [
       "Women/Athletic Apparel/Pants, Tights, Leggings    60177\n",
       "Women/Tops & Blouses/T-Shirts                     46380\n",
       "Beauty/Makeup/Face                                34335\n",
       "Beauty/Makeup/Lips                                29910\n",
       "Electronics/Video Games & Consoles/Games          26557\n",
       "Name: category_name, dtype: int64"
      ]
     },
     "execution_count": 77,
     "metadata": {},
     "output_type": "execute_result"
    }
   ],
   "source": [
    "print(\"Top 5 categories:\")\n",
    "train['category_name'].value_counts()[:5]"
   ]
  },
  {
   "cell_type": "markdown",
   "metadata": {},
   "source": [
    "Разделим category_name на 3 подкатегории (general_cat, subcat_1, subcat_2) и добавим получившиеся значения к нашему набору данных. Для этого создадим функции split_category для разделения строки на подкатегории и subcat_function для применения split category к нашим данным и создания новых признаков."
   ]
  },
  {
   "cell_type": "code",
   "execution_count": 78,
   "metadata": {},
   "outputs": [],
   "source": [
    "def split_category(string):\n",
    "    try: return string.split(\"/\")\n",
    "    except: return (\"No Label\", \"No Label\", \"No Label\")"
   ]
  },
  {
   "cell_type": "code",
   "execution_count": 79,
   "metadata": {},
   "outputs": [],
   "source": [
    "def subcat_function(data):\n",
    "    data = data.assign(general_cat=[split_category(cat)[0] for cat in data['category_name']])\n",
    "    data = data.assign(subcat_1=[split_category(cat)[1] for cat in data['category_name']])\n",
    "    data = data.assign(subcat_2=[split_category(cat)[2] for cat in data['category_name']])\n",
    "    return data"
   ]
  },
  {
   "cell_type": "code",
   "execution_count": 80,
   "metadata": {},
   "outputs": [],
   "source": [
    "train = subcat_function(train)\n",
    "test = subcat_function(test)"
   ]
  },
  {
   "cell_type": "markdown",
   "metadata": {},
   "source": [
    "Посмотрим на получившийся результат."
   ]
  },
  {
   "cell_type": "code",
   "execution_count": 81,
   "metadata": {},
   "outputs": [
    {
     "data": {
      "text/html": [
       "<div>\n",
       "<style scoped>\n",
       "    .dataframe tbody tr th:only-of-type {\n",
       "        vertical-align: middle;\n",
       "    }\n",
       "\n",
       "    .dataframe tbody tr th {\n",
       "        vertical-align: top;\n",
       "    }\n",
       "\n",
       "    .dataframe thead th {\n",
       "        text-align: right;\n",
       "    }\n",
       "</style>\n",
       "<table border=\"1\" class=\"dataframe\">\n",
       "  <thead>\n",
       "    <tr style=\"text-align: right;\">\n",
       "      <th></th>\n",
       "      <th>train_id</th>\n",
       "      <th>name</th>\n",
       "      <th>item_condition_id</th>\n",
       "      <th>category_name</th>\n",
       "      <th>brand_name</th>\n",
       "      <th>price</th>\n",
       "      <th>shipping</th>\n",
       "      <th>item_description</th>\n",
       "      <th>general_cat</th>\n",
       "      <th>subcat_1</th>\n",
       "      <th>subcat_2</th>\n",
       "    </tr>\n",
       "  </thead>\n",
       "  <tbody>\n",
       "    <tr>\n",
       "      <th>0</th>\n",
       "      <td>0</td>\n",
       "      <td>MLB Cincinnati Reds T Shirt Size XL</td>\n",
       "      <td>3</td>\n",
       "      <td>Men/Tops/T-shirts</td>\n",
       "      <td>NaN</td>\n",
       "      <td>10.0</td>\n",
       "      <td>1</td>\n",
       "      <td>No description yet</td>\n",
       "      <td>Men</td>\n",
       "      <td>Tops</td>\n",
       "      <td>T-shirts</td>\n",
       "    </tr>\n",
       "    <tr>\n",
       "      <th>1</th>\n",
       "      <td>1</td>\n",
       "      <td>Razer BlackWidow Chroma Keyboard</td>\n",
       "      <td>3</td>\n",
       "      <td>Electronics/Computers &amp; Tablets/Components &amp; P...</td>\n",
       "      <td>Razer</td>\n",
       "      <td>52.0</td>\n",
       "      <td>0</td>\n",
       "      <td>This keyboard is in great condition and works ...</td>\n",
       "      <td>Electronics</td>\n",
       "      <td>Computers &amp; Tablets</td>\n",
       "      <td>Components &amp; Parts</td>\n",
       "    </tr>\n",
       "    <tr>\n",
       "      <th>2</th>\n",
       "      <td>2</td>\n",
       "      <td>AVA-VIV Blouse</td>\n",
       "      <td>1</td>\n",
       "      <td>Women/Tops &amp; Blouses/Blouse</td>\n",
       "      <td>Target</td>\n",
       "      <td>10.0</td>\n",
       "      <td>1</td>\n",
       "      <td>Adorable top with a hint of lace and a key hol...</td>\n",
       "      <td>Women</td>\n",
       "      <td>Tops &amp; Blouses</td>\n",
       "      <td>Blouse</td>\n",
       "    </tr>\n",
       "    <tr>\n",
       "      <th>3</th>\n",
       "      <td>3</td>\n",
       "      <td>Leather Horse Statues</td>\n",
       "      <td>1</td>\n",
       "      <td>Home/Home Décor/Home Décor Accents</td>\n",
       "      <td>NaN</td>\n",
       "      <td>35.0</td>\n",
       "      <td>1</td>\n",
       "      <td>New with tags. Leather horses. Retail for [rm]...</td>\n",
       "      <td>Home</td>\n",
       "      <td>Home Décor</td>\n",
       "      <td>Home Décor Accents</td>\n",
       "    </tr>\n",
       "    <tr>\n",
       "      <th>4</th>\n",
       "      <td>4</td>\n",
       "      <td>24K GOLD plated rose</td>\n",
       "      <td>1</td>\n",
       "      <td>Women/Jewelry/Necklaces</td>\n",
       "      <td>NaN</td>\n",
       "      <td>44.0</td>\n",
       "      <td>0</td>\n",
       "      <td>Complete with certificate of authenticity</td>\n",
       "      <td>Women</td>\n",
       "      <td>Jewelry</td>\n",
       "      <td>Necklaces</td>\n",
       "    </tr>\n",
       "  </tbody>\n",
       "</table>\n",
       "</div>"
      ],
      "text/plain": [
       "   train_id                                 name  item_condition_id  \\\n",
       "0         0  MLB Cincinnati Reds T Shirt Size XL                  3   \n",
       "1         1     Razer BlackWidow Chroma Keyboard                  3   \n",
       "2         2                       AVA-VIV Blouse                  1   \n",
       "3         3                Leather Horse Statues                  1   \n",
       "4         4                 24K GOLD plated rose                  1   \n",
       "\n",
       "                                       category_name brand_name  price  \\\n",
       "0                                  Men/Tops/T-shirts        NaN   10.0   \n",
       "1  Electronics/Computers & Tablets/Components & P...      Razer   52.0   \n",
       "2                        Women/Tops & Blouses/Blouse     Target   10.0   \n",
       "3                 Home/Home Décor/Home Décor Accents        NaN   35.0   \n",
       "4                            Women/Jewelry/Necklaces        NaN   44.0   \n",
       "\n",
       "   shipping                                   item_description  general_cat  \\\n",
       "0         1                                 No description yet          Men   \n",
       "1         0  This keyboard is in great condition and works ...  Electronics   \n",
       "2         1  Adorable top with a hint of lace and a key hol...        Women   \n",
       "3         1  New with tags. Leather horses. Retail for [rm]...         Home   \n",
       "4         0          Complete with certificate of authenticity        Women   \n",
       "\n",
       "              subcat_1            subcat_2  \n",
       "0                 Tops            T-shirts  \n",
       "1  Computers & Tablets  Components & Parts  \n",
       "2       Tops & Blouses              Blouse  \n",
       "3           Home Décor  Home Décor Accents  \n",
       "4              Jewelry           Necklaces  "
      ]
     },
     "execution_count": 81,
     "metadata": {},
     "output_type": "execute_result"
    }
   ],
   "source": [
    "train.head()"
   ]
  },
  {
   "cell_type": "markdown",
   "metadata": {},
   "source": [
    "Найдем мощность множества каждой из получившихся подкатегорий."
   ]
  },
  {
   "cell_type": "code",
   "execution_count": 83,
   "metadata": {},
   "outputs": [
    {
     "name": "stdout",
     "output_type": "stream",
     "text": [
      "Number of unique general categories = 11.\n",
      "Number of unique first subcategories = 114.\n",
      "Number of unique second subcategories = 871.\n"
     ]
    }
   ],
   "source": [
    "print(\"Number of unique general categories = %d.\" % train['general_cat'].nunique())\n",
    "print(\"Number of unique first subcategories = %d.\" % train['subcat_1'].nunique())\n",
    "print(\"Number of unique second subcategories = %d.\" % train['subcat_2'].nunique())"
   ]
  },
  {
   "cell_type": "markdown",
   "metadata": {},
   "source": [
    "Посмотрим на количественное распределение первой подкатегории."
   ]
  },
  {
   "cell_type": "code",
   "execution_count": 84,
   "metadata": {},
   "outputs": [
    {
     "data": {
      "image/png": "[encoded data removed]",
      "text/plain": [
       "<matplotlib.figure.Figure at 0x2c3cfeeb8>"
      ]
     },
     "metadata": {},
     "output_type": "display_data"
    }
   ],
   "source": [
    "x = train['general_cat'].value_counts().index.values.astype('str')\n",
    "y = train['general_cat'].value_counts().values\n",
    "objects = set(train['general_cat'])\n",
    "\n",
    "plt.figure(figsize=(20,10))\n",
    "plt.bar(x, y, alpha=1, align='center')\n",
    "plt.ylabel('Count', fontsize=15)\n",
    "plt.xlabel('Category', fontsize=15)\n",
    "plt.title('Number of Items by General Category', fontsize=15)\n",
    "plt.xticks(fontsize=12)\n",
    "plt.yticks(fontsize=12)\n",
    " \n",
    "plt.show()"
   ]
  },
  {
   "cell_type": "markdown",
   "metadata": {},
   "source": [
    "Посмотрим на количественное распределение второй подкатегории, выбрав 15 наиболее встречающихся."
   ]
  },
  {
   "cell_type": "code",
   "execution_count": 85,
   "metadata": {},
   "outputs": [
    {
     "data": {
      "image/png": "[encoded data removed]",
      "text/plain": [
       "<matplotlib.figure.Figure at 0x2c3d05358>"
      ]
     },
     "metadata": {},
     "output_type": "display_data"
    }
   ],
   "source": [
    "x = train['subcat_1'].value_counts().index.values.astype('str')[:15]\n",
    "y = train['subcat_1'].value_counts().values[:15]\n",
    "objects = set(train['general_cat'])\n",
    "\n",
    "plt.figure(figsize=(20,10))\n",
    "plt.bar(x, y, alpha=1, align='center')\n",
    "plt.ylabel('Count', fontsize=15)\n",
    "plt.xlabel('Category', fontsize=15)\n",
    "plt.title('Number of Items by First Sub Category (Top 15)', fontsize=15)\n",
    "plt.xticks(fontsize=12)\n",
    "plt.yticks(fontsize=12)\n",
    " \n",
    "plt.show()"
   ]
  },
  {
   "cell_type": "markdown",
   "metadata": {},
   "source": [
    "Аналогично поступим c третьей подкатегорией товаров."
   ]
  },
  {
   "cell_type": "code",
   "execution_count": 86,
   "metadata": {},
   "outputs": [
    {
     "data": {
      "image/png": "[encoded data removed]",
      "text/plain": [
       "<matplotlib.figure.Figure at 0x2c3f53438>"
      ]
     },
     "metadata": {},
     "output_type": "display_data"
    }
   ],
   "source": [
    "x = train['subcat_2'].value_counts().index.values.astype('str')[:15]\n",
    "y = train['subcat_2'].value_counts().values[:15]\n",
    "objects = set(train['general_cat'])\n",
    "\n",
    "plt.figure(figsize=(20,10))\n",
    "plt.bar(x, y, alpha=1, align='center')\n",
    "plt.ylabel('Count', fontsize=15)\n",
    "plt.xlabel('Category', fontsize=15)\n",
    "plt.title('Number of Items by First Sub Category (Top 15)', fontsize=15)\n",
    "plt.xticks(fontsize=12)\n",
    "plt.yticks(fontsize=12)\n",
    " \n",
    "plt.show()"
   ]
  },
  {
   "cell_type": "markdown",
   "metadata": {},
   "source": [
    "## Item description"
   ]
  },
  {
   "cell_type": "markdown",
   "metadata": {},
   "source": [
    "Как видно, по распределению нельзя точно сказать, влияет ли наличие описания товара на его цену."
   ]
  },
  {
   "cell_type": "code",
   "execution_count": 87,
   "metadata": {},
   "outputs": [
    {
     "data": {
      "image/png": "[encoded data removed]",
      "text/plain": [
       "<matplotlib.figure.Figure at 0x2c3cf8e48>"
      ]
     },
     "metadata": {},
     "output_type": "display_data"
    }
   ],
   "source": [
    "plt.figure(figsize=(20, 15))\n",
    "bins=50\n",
    "plt.hist(train[train['item_description']!='No description yet']['price'], bins, normed=True, range=[0,250], color='black',\n",
    "         alpha=0.6, label='Items with description')\n",
    "plt.hist(train[train['item_description']=='No description yet']['price'], bins, normed=True, range=[0,250], color='yellow',\n",
    "         alpha=0.6, label='Items without description')\n",
    "plt.title('Price Distribution by Description', fontsize=17)\n",
    "plt.xlabel('Price', fontsize=17)\n",
    "plt.ylabel('Frequency', fontsize=17)\n",
    "plt.xticks(fontsize=15)\n",
    "plt.yticks(fontsize=15)\n",
    "plt.legend(fontsize=15)\n",
    "plt.show()"
   ]
  },
  {
   "cell_type": "markdown",
   "metadata": {},
   "source": [
    "# Feature engineering"
   ]
  },
  {
   "cell_type": "markdown",
   "metadata": {},
   "source": [
    "Преобразуем исходные признаки, чтобы с ними можно было легче работать, проведем аккуратный feature engineering."
   ]
  },
  {
   "cell_type": "code",
   "execution_count": 88,
   "metadata": {},
   "outputs": [],
   "source": [
    "# Промежуточное сохранение результатов\n",
    "train.to_csv('train_checkpoint.csv', index=False)\n",
    "test.to_csv('test_checkpoint.csv', index=False)"
   ]
  },
  {
   "cell_type": "markdown",
   "metadata": {},
   "source": [
    "### Description length"
   ]
  },
  {
   "cell_type": "markdown",
   "metadata": {},
   "source": [
    "Введем новый признак - длину описания. При вычислении не будем учитывать общеупотребительные слова английского языка и слова, длина которых меньше 3. Для этого введем функцию descr_words_num, которая будет возвращать количество слов в описании товара, не учитывая пунктуацию и часто употребляемые слова."
   ]
  },
  {
   "cell_type": "code",
   "execution_count": 89,
   "metadata": {},
   "outputs": [],
   "source": [
    "def descr_words_num(descr):\n",
    "    try:\n",
    "        stop_words = set(stopwords.words('english'))\n",
    "        descr = descr.lower()\n",
    "        descr = ''.join(c for c in descr if c not in punctuation)\n",
    "        word_tokens = word_tokenize(descr)\n",
    "        filtered_sentence = [w for w in word_tokens if w not in stop_words and len(w)>3]\n",
    "        return len(filtered_sentence)\n",
    "    except:\n",
    "        return 0"
   ]
  },
  {
   "cell_type": "markdown",
   "metadata": {},
   "source": [
    "Создадим сам новый признак desc_len в обоих наборах данных."
   ]
  },
  {
   "cell_type": "code",
   "execution_count": 90,
   "metadata": {},
   "outputs": [],
   "source": [
    "train['desc_len'] = train['item_description'].apply(lambda x: descr_words_num(x))\n",
    "test['desc_len'] = test['item_description'].apply(lambda x: descr_words_num(x))"
   ]
  },
  {
   "cell_type": "markdown",
   "metadata": {},
   "source": [
    "Скопируем полученные результаты."
   ]
  },
  {
   "cell_type": "code",
   "execution_count": 91,
   "metadata": {},
   "outputs": [],
   "source": [
    "train_df = train.copy()\n",
    "test_df = test.copy()"
   ]
  },
  {
   "cell_type": "code",
   "execution_count": 92,
   "metadata": {},
   "outputs": [],
   "source": [
    "# Промежуточное сохранение результатов\n",
    "train_df.to_csv('train_checkpoint.csv', index=False)\n",
    "test_df.to_csv('test_checkpoint.csv', index=False)"
   ]
  },
  {
   "cell_type": "markdown",
   "metadata": {},
   "source": [
    "### Category labels"
   ]
  },
  {
   "cell_type": "markdown",
   "metadata": {},
   "source": [
    "Преобразуем категориальные признаки. Присвоим каждой подкатегории свой уникальный номер."
   ]
  },
  {
   "cell_type": "code",
   "execution_count": 93,
   "metadata": {},
   "outputs": [],
   "source": [
    "keys = list(train_df.general_cat.unique()) + list(test_df.general_cat.unique())\n",
    "keys = list(set(keys))\n",
    "values = list(range(len(keys)))\n",
    "cat1_dict = dict(zip(keys, values))\n",
    "\n",
    "\n",
    "keys = list(train_df.subcat_1.unique()) + list(test_df.subcat_1.unique())\n",
    "keys = list(set(keys))\n",
    "values = list(range(len(keys)))\n",
    "cat2_dict = dict(zip(keys, values))\n",
    "\n",
    "\n",
    "keys = list(train_df.subcat_2.unique()) + list(test_df.subcat_2.unique())\n",
    "keys = list(set(keys))\n",
    "values = list(range(len(keys)))\n",
    "cat3_dict = dict(zip(keys, values))"
   ]
  },
  {
   "cell_type": "code",
   "execution_count": 94,
   "metadata": {
    "scrolled": false
   },
   "outputs": [],
   "source": [
    "def cat_label_for_row (row, cat1_dict = cat1_dict, cat2_dict = cat2_dict, cat3_dict = cat3_dict):\n",
    "    cat1 = row['general_cat']\n",
    "    cat2 = row['subcat_1']\n",
    "    cat3 = row['subcat_2']\n",
    "    return cat1_dict[cat1], cat2_dict[cat2], cat3_dict[cat3]\n",
    "\n",
    "\n",
    "train_df[\"cat_1_label\"], train_df[\"cat_2_label\"], train_df[\"cat_3_lable\"] = zip(*train_df.apply(lambda val: cat_label_for_row(val), axis =1))\n",
    "test_df[\"cat_1_label\"], test_df[\"cat_2_label\"], test_df[\"cat_3_lable\"] = zip(*test_df.apply(lambda val: cat_label_for_row(val), axis =1))"
   ]
  },
  {
   "cell_type": "markdown",
   "metadata": {},
   "source": [
    "В дальнейшем сами названия подкатегорий нам не понадобятся, поэтому их можно удалить из наборов данных."
   ]
  },
  {
   "cell_type": "code",
   "execution_count": 95,
   "metadata": {},
   "outputs": [],
   "source": [
    "train_df = train_df.drop(columns=['category_name', 'general_cat', 'subcat_1', 'subcat_2'])\n",
    "test_df = test_df.drop(columns=['category_name', 'general_cat', 'subcat_1', 'subcat_2'])"
   ]
  },
  {
   "cell_type": "code",
   "execution_count": 96,
   "metadata": {},
   "outputs": [],
   "source": [
    "# Промежуточное сохранение результатов\n",
    "train_df.to_csv('train_checkpoint.csv', index=False)\n",
    "test_df.to_csv('test_checkpoint.csv', index=False)"
   ]
  },
  {
   "cell_type": "markdown",
   "metadata": {},
   "source": [
    "### Brand labels"
   ]
  },
  {
   "cell_type": "markdown",
   "metadata": {},
   "source": [
    "Аналогично поступаем и с названиями брендов. Присвоим каждому бренду уникальный номер, после чего удалим строковые названия брендов за ненадобностью."
   ]
  },
  {
   "cell_type": "code",
   "execution_count": 97,
   "metadata": {},
   "outputs": [],
   "source": [
    "keys = list(train_df.brand_name.unique()) + list(test_df.brand_name.unique())\n",
    "keys = list(set(keys))\n",
    "values = list(range(len(keys)))\n",
    "brand_dict = dict(zip(keys, values))"
   ]
  },
  {
   "cell_type": "code",
   "execution_count": 98,
   "metadata": {},
   "outputs": [],
   "source": [
    "train_df['brand_label'] = train_df.brand_name.apply(lambda row: brand_dict[row])\n",
    "test_df['brand_label'] = test_df.brand_name.apply(lambda row: brand_dict[row])"
   ]
  },
  {
   "cell_type": "code",
   "execution_count": 99,
   "metadata": {},
   "outputs": [],
   "source": [
    "train_df = train_df.drop(columns=['brand_name'])\n",
    "test_df = test_df.drop(columns=['brand_name'])"
   ]
  },
  {
   "cell_type": "markdown",
   "metadata": {},
   "source": [
    "Посмотрим на полученные признаки."
   ]
  },
  {
   "cell_type": "code",
   "execution_count": 100,
   "metadata": {},
   "outputs": [
    {
     "data": {
      "text/html": [
       "<div>\n",
       "<style scoped>\n",
       "    .dataframe tbody tr th:only-of-type {\n",
       "        vertical-align: middle;\n",
       "    }\n",
       "\n",
       "    .dataframe tbody tr th {\n",
       "        vertical-align: top;\n",
       "    }\n",
       "\n",
       "    .dataframe thead th {\n",
       "        text-align: right;\n",
       "    }\n",
       "</style>\n",
       "<table border=\"1\" class=\"dataframe\">\n",
       "  <thead>\n",
       "    <tr style=\"text-align: right;\">\n",
       "      <th></th>\n",
       "      <th>train_id</th>\n",
       "      <th>name</th>\n",
       "      <th>item_condition_id</th>\n",
       "      <th>price</th>\n",
       "      <th>shipping</th>\n",
       "      <th>item_description</th>\n",
       "      <th>desc_len</th>\n",
       "      <th>cat_1_label</th>\n",
       "      <th>cat_2_label</th>\n",
       "      <th>cat_3_lable</th>\n",
       "      <th>brand_label</th>\n",
       "    </tr>\n",
       "  </thead>\n",
       "  <tbody>\n",
       "    <tr>\n",
       "      <th>0</th>\n",
       "      <td>0</td>\n",
       "      <td>MLB Cincinnati Reds T Shirt Size XL</td>\n",
       "      <td>3</td>\n",
       "      <td>10.0</td>\n",
       "      <td>1</td>\n",
       "      <td>No description yet</td>\n",
       "      <td>1</td>\n",
       "      <td>2</td>\n",
       "      <td>53</td>\n",
       "      <td>299</td>\n",
       "      <td>0</td>\n",
       "    </tr>\n",
       "    <tr>\n",
       "      <th>1</th>\n",
       "      <td>1</td>\n",
       "      <td>Razer BlackWidow Chroma Keyboard</td>\n",
       "      <td>3</td>\n",
       "      <td>52.0</td>\n",
       "      <td>0</td>\n",
       "      <td>This keyboard is in great condition and works ...</td>\n",
       "      <td>14</td>\n",
       "      <td>6</td>\n",
       "      <td>57</td>\n",
       "      <td>346</td>\n",
       "      <td>1933</td>\n",
       "    </tr>\n",
       "    <tr>\n",
       "      <th>2</th>\n",
       "      <td>2</td>\n",
       "      <td>AVA-VIV Blouse</td>\n",
       "      <td>1</td>\n",
       "      <td>10.0</td>\n",
       "      <td>1</td>\n",
       "      <td>Adorable top with a hint of lace and a key hol...</td>\n",
       "      <td>10</td>\n",
       "      <td>7</td>\n",
       "      <td>78</td>\n",
       "      <td>779</td>\n",
       "      <td>2235</td>\n",
       "    </tr>\n",
       "    <tr>\n",
       "      <th>3</th>\n",
       "      <td>3</td>\n",
       "      <td>Leather Horse Statues</td>\n",
       "      <td>1</td>\n",
       "      <td>35.0</td>\n",
       "      <td>1</td>\n",
       "      <td>New with tags. Leather horses. Retail for [rm]...</td>\n",
       "      <td>14</td>\n",
       "      <td>5</td>\n",
       "      <td>97</td>\n",
       "      <td>791</td>\n",
       "      <td>0</td>\n",
       "    </tr>\n",
       "    <tr>\n",
       "      <th>4</th>\n",
       "      <td>4</td>\n",
       "      <td>24K GOLD plated rose</td>\n",
       "      <td>1</td>\n",
       "      <td>44.0</td>\n",
       "      <td>0</td>\n",
       "      <td>Complete with certificate of authenticity</td>\n",
       "      <td>3</td>\n",
       "      <td>7</td>\n",
       "      <td>25</td>\n",
       "      <td>143</td>\n",
       "      <td>0</td>\n",
       "    </tr>\n",
       "  </tbody>\n",
       "</table>\n",
       "</div>"
      ],
      "text/plain": [
       "   train_id                                 name  item_condition_id  price  \\\n",
       "0         0  MLB Cincinnati Reds T Shirt Size XL                  3   10.0   \n",
       "1         1     Razer BlackWidow Chroma Keyboard                  3   52.0   \n",
       "2         2                       AVA-VIV Blouse                  1   10.0   \n",
       "3         3                Leather Horse Statues                  1   35.0   \n",
       "4         4                 24K GOLD plated rose                  1   44.0   \n",
       "\n",
       "   shipping                                   item_description  desc_len  \\\n",
       "0         1                                 No description yet         1   \n",
       "1         0  This keyboard is in great condition and works ...        14   \n",
       "2         1  Adorable top with a hint of lace and a key hol...        10   \n",
       "3         1  New with tags. Leather horses. Retail for [rm]...        14   \n",
       "4         0          Complete with certificate of authenticity         3   \n",
       "\n",
       "   cat_1_label  cat_2_label  cat_3_lable  brand_label  \n",
       "0            2           53          299            0  \n",
       "1            6           57          346         1933  \n",
       "2            7           78          779         2235  \n",
       "3            5           97          791            0  \n",
       "4            7           25          143            0  "
      ]
     },
     "execution_count": 100,
     "metadata": {},
     "output_type": "execute_result"
    }
   ],
   "source": [
    "train_df.head()"
   ]
  },
  {
   "cell_type": "code",
   "execution_count": 101,
   "metadata": {},
   "outputs": [],
   "source": [
    "# Промежуточное сохранение результатов\n",
    "train_df.to_csv('train_checkpoint.csv', index=False)\n",
    "test_df.to_csv('test_checkpoint.csv', index=False)"
   ]
  },
  {
   "cell_type": "markdown",
   "metadata": {},
   "source": [
    "### TF-IDF (item description)"
   ]
  },
  {
   "cell_type": "markdown",
   "metadata": {},
   "source": [
    "Чтобы понять, как именно влияет описание товара на его цену, воспользуемся tf-idf обработкой описаний."
   ]
  },
  {
   "cell_type": "markdown",
   "metadata": {},
   "source": [
    "Сначала исключим объекты с пустым описанием."
   ]
  },
  {
   "cell_type": "code",
   "execution_count": 3,
   "metadata": {},
   "outputs": [
    {
     "name": "stdout",
     "output_type": "stream",
     "text": [
      "1482535\n",
      "1482531\n"
     ]
    }
   ],
   "source": [
    "print(train_df.shape[0])\n",
    "train_df = train_df.loc[train_df.item_description == train_df.item_description]\n",
    "test_df = test_df.loc[test_df.item_description == test_df.item_description]\n",
    "print(train_df.shape[0])"
   ]
  },
  {
   "cell_type": "markdown",
   "metadata": {},
   "source": [
    "Исключим из рассмотрения общеупотребительные слова и выражения длиннее 1 слова."
   ]
  },
  {
   "cell_type": "code",
   "execution_count": 4,
   "metadata": {},
   "outputs": [],
   "source": [
    "tfidf_vec = TfidfVectorizer(stop_words='english', lowercase=True, ngram_range=(1,1))"
   ]
  },
  {
   "cell_type": "markdown",
   "metadata": {},
   "source": [
    "Получим tf-idf представление описаний товаров."
   ]
  },
  {
   "cell_type": "code",
   "execution_count": 5,
   "metadata": {},
   "outputs": [],
   "source": [
    "full_tfidf_descr = tfidf_vec.fit_transform(list(train_df['item_description'].values) + list(test_df['item_description'].values))\n",
    "train_tfidf_descr = tfidf_vec.transform(list(train_df['item_description'].values))\n",
    "test_tfidf_descr = tfidf_vec.transform(list(test_df['item_description'].values))"
   ]
  },
  {
   "cell_type": "markdown",
   "metadata": {},
   "source": [
    "### SVD on TF-IDF (item description)"
   ]
  },
  {
   "cell_type": "markdown",
   "metadata": {},
   "source": [
    "При помощи сингулярного разложения уменьшим размерность полученных данных до 40."
   ]
  },
  {
   "cell_type": "code",
   "execution_count": 7,
   "metadata": {},
   "outputs": [
    {
     "data": {
      "text/plain": [
       "TruncatedSVD(algorithm='randomized', n_components=40, n_iter=5,\n",
       "       random_state=None, tol=0.0)"
      ]
     },
     "execution_count": 7,
     "metadata": {},
     "output_type": "execute_result"
    }
   ],
   "source": [
    "n_comp = 40\n",
    "\n",
    "svd_1 = TruncatedSVD(n_components=n_comp)\n",
    "svd_1.fit(full_tfidf_descr)"
   ]
  },
  {
   "cell_type": "markdown",
   "metadata": {},
   "source": [
    "Проверим, является ли разложение на 40 компонент оптимальным."
   ]
  },
  {
   "cell_type": "code",
   "execution_count": 8,
   "metadata": {},
   "outputs": [],
   "source": [
    "singular_values_ = svd_1.singular_values_\n",
    "explained_variance_ratio_ = svd_1.explained_variance_ratio_"
   ]
  },
  {
   "cell_type": "code",
   "execution_count": 9,
   "metadata": {},
   "outputs": [
    {
     "data": {
      "text/plain": [
       "0.2034639469009446"
      ]
     },
     "execution_count": 9,
     "metadata": {},
     "output_type": "execute_result"
    }
   ],
   "source": [
    "explained_variance_ratio_.sum()"
   ]
  },
  {
   "cell_type": "markdown",
   "metadata": {},
   "source": [
    "Разложение позволяет объяснить около 20% всей дисперсии."
   ]
  },
  {
   "cell_type": "code",
   "execution_count": 10,
   "metadata": {},
   "outputs": [],
   "source": [
    "def plot_scores(d_scores, label):\n",
    "    n_components = np.arange(1,d_scores.size+1)\n",
    "    plt.plot(n_components, d_scores, 'b', label=label)\n",
    "    plt.xlim(n_components[0], n_components[-1])\n",
    "    plt.xlabel('n components')\n",
    "    plt.ylabel('explained variance')\n",
    "    plt.legend(loc='lower right')\n",
    "\n",
    "scores = list()\n",
    "for d in range(1, 800):\n",
    "    scores.append(explained_variance_ratio_[:d].sum())"
   ]
  },
  {
   "cell_type": "markdown",
   "metadata": {},
   "source": [
    "Определим оптимальное количество компонент для разложения. Для этого посмотрим на разности в дисперсиях в отсортированном ряде $\\lambda_{(1)} > \\lambda_{(2)} > \\dots > \\lambda_{(D)}$: $\\lambda_{(1)}-\\lambda_{(2)}, \\dots, \\lambda_{(D-1)} - \\lambda_{(D)}$."
   ]
  },
  {
   "cell_type": "code",
   "execution_count": 11,
   "metadata": {},
   "outputs": [
    {
     "name": "stdout",
     "output_type": "stream",
     "text": [
      "1\n"
     ]
    },
    {
     "data": {
      "image/png": "[encoded data removed]",
      "text/plain": [
       "<matplotlib.figure.Figure at 0x569bb390>"
      ]
     },
     "metadata": {},
     "output_type": "display_data"
    }
   ],
   "source": [
    "def plot_variances(d_variances):\n",
    "    n_components = np.arange(1,d_variances.size+1)\n",
    "    plt.plot(n_components, d_variances, 'b', label='Component variances')\n",
    "    plt.xlim(n_components[0], n_components[-1])\n",
    "    plt.xlabel('n components')\n",
    "    plt.ylabel('variance')\n",
    "    plt.legend(loc='upper right')\n",
    "\n",
    "sorted_vars = explained_variance_ratio_\n",
    "deltas = list()\n",
    "for i in range(1, len(sorted_vars)):\n",
    "    deltas.append(sorted_vars[i-1] - sorted_vars[i])\n",
    "print(deltas.index(max(deltas))+1)\n",
    "fig = plt.figure(figsize=(22,10))\n",
    "\n",
    "plt.subplot(2, 3, 1)\n",
    "plot_variances(np.array(sorted_vars))\n",
    "plt.subplot(2, 3, 2)\n",
    "plot_variances(np.array(sorted_vars[:19]))"
   ]
  },
  {
   "cell_type": "markdown",
   "metadata": {},
   "source": [
    "Получили, что формально мы должны оставить всего одну компоненту - именно на ней наблюдается наибольший скачок. Но мы попробуем вариант с 6 компонентами, который из графика кажется более логичным."
   ]
  },
  {
   "cell_type": "code",
   "execution_count": 12,
   "metadata": {},
   "outputs": [
    {
     "data": {
      "text/plain": [
       "TruncatedSVD(algorithm='randomized', n_components=6, n_iter=5,\n",
       "       random_state=None, tol=0.0)"
      ]
     },
     "execution_count": 12,
     "metadata": {},
     "output_type": "execute_result"
    }
   ],
   "source": [
    "svd_1 = TruncatedSVD(n_components=6)\n",
    "svd_1.fit(full_tfidf_descr)"
   ]
  },
  {
   "cell_type": "markdown",
   "metadata": {},
   "source": [
    "Добавим данные значения к нашим наборам данных."
   ]
  },
  {
   "cell_type": "code",
   "execution_count": 14,
   "metadata": {},
   "outputs": [],
   "source": [
    "train_svd = pd.DataFrame(svd_1.transform(train_tfidf_descr))\n",
    "test_svd = pd.DataFrame(svd_1.transform(test_tfidf_descr))\n",
    "\n",
    "train_svd.columns = ['svd_item_'+str(i) for i in range(6)]\n",
    "test_svd.columns = ['svd_item_'+str(i) for i in range(6)]\n",
    "\n",
    "train_df = pd.concat([train_df, train_svd], axis=1)\n",
    "test_df = pd.concat([test_df, test_svd], axis=1)"
   ]
  },
  {
   "cell_type": "code",
   "execution_count": 15,
   "metadata": {},
   "outputs": [],
   "source": [
    "# Промежуточное сохранение результатов\n",
    "train_df.to_csv('train_checkpoint.csv', index=False)\n",
    "test_df.to_csv('test_checkpoint.csv', index=False)"
   ]
  },
  {
   "cell_type": "markdown",
   "metadata": {},
   "source": [
    "### TF-IDF (item name)"
   ]
  },
  {
   "cell_type": "markdown",
   "metadata": {},
   "source": [
    "Абсолютно аналогично поступим и с названиями товаров."
   ]
  },
  {
   "cell_type": "markdown",
   "metadata": {},
   "source": [
    "Исключим объекты с пустым описанием."
   ]
  },
  {
   "cell_type": "code",
   "execution_count": 16,
   "metadata": {},
   "outputs": [
    {
     "name": "stdout",
     "output_type": "stream",
     "text": [
      "1482535\n",
      "1482531\n"
     ]
    }
   ],
   "source": [
    "print(train_df.shape[0])\n",
    "train_df = train_df.loc[train_df.name == train_df.name]\n",
    "test_df = test_df.loc[test_df.name == test_df.name]\n",
    "print(train_df.shape[0])"
   ]
  },
  {
   "cell_type": "markdown",
   "metadata": {},
   "source": [
    "Исключим из рассмотрения общеупотребительные слова и выражения длиннее 1 слова."
   ]
  },
  {
   "cell_type": "code",
   "execution_count": 17,
   "metadata": {},
   "outputs": [],
   "source": [
    "tfidf_vec = TfidfVectorizer(stop_words='english', lowercase=True, ngram_range=(1,1))"
   ]
  },
  {
   "cell_type": "markdown",
   "metadata": {},
   "source": [
    "Получим tf-idf представление названий товаров."
   ]
  },
  {
   "cell_type": "code",
   "execution_count": 18,
   "metadata": {},
   "outputs": [],
   "source": [
    "full_tfidf_name = tfidf_vec.fit_transform(list(train_df['name'].values) + list(test_df['name'].values))\n",
    "train_tfidf_name = tfidf_vec.transform(list(train_df['name'].values))\n",
    "test_tfidf_name = tfidf_vec.transform(list(test_df['name'].values))"
   ]
  },
  {
   "cell_type": "markdown",
   "metadata": {},
   "source": [
    "### SVD on TF-IDF (item name)"
   ]
  },
  {
   "cell_type": "markdown",
   "metadata": {},
   "source": [
    "Уменьшим размерность до 40 значений."
   ]
  },
  {
   "cell_type": "code",
   "execution_count": 19,
   "metadata": {},
   "outputs": [
    {
     "data": {
      "text/plain": [
       "TruncatedSVD(algorithm='randomized', n_components=40, n_iter=5,\n",
       "       random_state=None, tol=0.0)"
      ]
     },
     "execution_count": 19,
     "metadata": {},
     "output_type": "execute_result"
    }
   ],
   "source": [
    "n_comp = 40\n",
    "\n",
    "svd_2 = TruncatedSVD(n_components=n_comp)\n",
    "svd_2.fit(full_tfidf_name)"
   ]
  },
  {
   "cell_type": "markdown",
   "metadata": {},
   "source": [
    "Проверим, является ли разложение на 40 компонент оптимальным."
   ]
  },
  {
   "cell_type": "code",
   "execution_count": 20,
   "metadata": {},
   "outputs": [],
   "source": [
    "singular_values_ = svd_2.singular_values_\n",
    "explained_variance_ratio_ = svd_2.explained_variance_ratio_"
   ]
  },
  {
   "cell_type": "code",
   "execution_count": 21,
   "metadata": {},
   "outputs": [
    {
     "data": {
      "text/plain": [
       "0.1418486968038038"
      ]
     },
     "execution_count": 21,
     "metadata": {},
     "output_type": "execute_result"
    }
   ],
   "source": [
    "explained_variance_ratio_.sum()"
   ]
  },
  {
   "cell_type": "markdown",
   "metadata": {},
   "source": [
    "Разложение позволяет объяснить около 14% всей дисперсии."
   ]
  },
  {
   "cell_type": "code",
   "execution_count": 22,
   "metadata": {},
   "outputs": [],
   "source": [
    "scores = list()\n",
    "for d in range(1, 800):\n",
    "    scores.append(explained_variance_ratio_[:d].sum())"
   ]
  },
  {
   "cell_type": "markdown",
   "metadata": {},
   "source": [
    "Определим оптимальное количество компонент для разложения."
   ]
  },
  {
   "cell_type": "code",
   "execution_count": 23,
   "metadata": {},
   "outputs": [
    {
     "name": "stdout",
     "output_type": "stream",
     "text": [
      "3\n"
     ]
    },
    {
     "data": {
      "image/png": "[encoded data removed]",
      "text/plain": [
       "<matplotlib.figure.Figure at 0x42f68390>"
      ]
     },
     "metadata": {},
     "output_type": "display_data"
    }
   ],
   "source": [
    "sorted_vars = explained_variance_ratio_\n",
    "deltas = list()\n",
    "for i in range(1, len(sorted_vars)):\n",
    "    deltas.append(sorted_vars[i-1] - sorted_vars[i])\n",
    "print(deltas.index(max(deltas))+1)\n",
    "fig = plt.figure(figsize=(22,10))\n",
    "\n",
    "plt.subplot(2, 3, 1)\n",
    "plot_variances(np.array(sorted_vars))\n",
    "plt.subplot(2, 3, 2)\n",
    "plot_variances(np.array(sorted_vars[:19]))"
   ]
  },
  {
   "cell_type": "markdown",
   "metadata": {},
   "source": [
    "Получили, что формально мы должны оставить 3 компоненты. Но мы попробуем вариант с 8 компонентами, который из графика кажется более логичным."
   ]
  },
  {
   "cell_type": "code",
   "execution_count": 24,
   "metadata": {},
   "outputs": [
    {
     "data": {
      "text/plain": [
       "TruncatedSVD(algorithm='randomized', n_components=8, n_iter=5,\n",
       "       random_state=None, tol=0.0)"
      ]
     },
     "execution_count": 24,
     "metadata": {},
     "output_type": "execute_result"
    }
   ],
   "source": [
    "svd_2 = TruncatedSVD(n_components=8)\n",
    "svd_2.fit(full_tfidf_name)"
   ]
  },
  {
   "cell_type": "markdown",
   "metadata": {},
   "source": [
    "Добавим полученные значения к нашим наборам данных."
   ]
  },
  {
   "cell_type": "code",
   "execution_count": 25,
   "metadata": {},
   "outputs": [],
   "source": [
    "train_svd = pd.DataFrame(svd_2.transform(train_tfidf_name))\n",
    "test_svd = pd.DataFrame(svd_2.transform(test_tfidf_name))\n",
    "\n",
    "train_svd.columns = ['svd_name_'+str(i) for i in range(8)]\n",
    "test_svd.columns = ['svd_name_'+str(i) for i in range(8)]\n",
    "\n",
    "train_df = pd.concat([train_df, train_svd], axis=1)\n",
    "test_df = pd.concat([test_df, test_svd], axis=1)"
   ]
  },
  {
   "cell_type": "markdown",
   "metadata": {},
   "source": [
    "Посмотрим на получившийся результат."
   ]
  },
  {
   "cell_type": "code",
   "execution_count": 26,
   "metadata": {},
   "outputs": [
    {
     "data": {
      "text/html": [
       "<div>\n",
       "<style scoped>\n",
       "    .dataframe tbody tr th:only-of-type {\n",
       "        vertical-align: middle;\n",
       "    }\n",
       "\n",
       "    .dataframe tbody tr th {\n",
       "        vertical-align: top;\n",
       "    }\n",
       "\n",
       "    .dataframe thead th {\n",
       "        text-align: right;\n",
       "    }\n",
       "</style>\n",
       "<table border=\"1\" class=\"dataframe\">\n",
       "  <thead>\n",
       "    <tr style=\"text-align: right;\">\n",
       "      <th></th>\n",
       "      <th>train_id</th>\n",
       "      <th>name</th>\n",
       "      <th>item_condition_id</th>\n",
       "      <th>price</th>\n",
       "      <th>shipping</th>\n",
       "      <th>item_description</th>\n",
       "      <th>desc_len</th>\n",
       "      <th>cat_1_label</th>\n",
       "      <th>cat_2_label</th>\n",
       "      <th>cat_3_lable</th>\n",
       "      <th>...</th>\n",
       "      <th>svd_item_4</th>\n",
       "      <th>svd_item_5</th>\n",
       "      <th>svd_name_0</th>\n",
       "      <th>svd_name_1</th>\n",
       "      <th>svd_name_2</th>\n",
       "      <th>svd_name_3</th>\n",
       "      <th>svd_name_4</th>\n",
       "      <th>svd_name_5</th>\n",
       "      <th>svd_name_6</th>\n",
       "      <th>svd_name_7</th>\n",
       "    </tr>\n",
       "  </thead>\n",
       "  <tbody>\n",
       "    <tr>\n",
       "      <th>0</th>\n",
       "      <td>0.0</td>\n",
       "      <td>MLB Cincinnati Reds T Shirt Size XL</td>\n",
       "      <td>3.0</td>\n",
       "      <td>10.0</td>\n",
       "      <td>1.0</td>\n",
       "      <td>No description yet</td>\n",
       "      <td>1.0</td>\n",
       "      <td>2.0</td>\n",
       "      <td>53.0</td>\n",
       "      <td>299.0</td>\n",
       "      <td>...</td>\n",
       "      <td>-0.000828</td>\n",
       "      <td>-0.000112</td>\n",
       "      <td>0.051447</td>\n",
       "      <td>0.029832</td>\n",
       "      <td>0.020830</td>\n",
       "      <td>-0.067094</td>\n",
       "      <td>0.126499</td>\n",
       "      <td>-0.027318</td>\n",
       "      <td>-0.099446</td>\n",
       "      <td>0.079905</td>\n",
       "    </tr>\n",
       "    <tr>\n",
       "      <th>1</th>\n",
       "      <td>1.0</td>\n",
       "      <td>Razer BlackWidow Chroma Keyboard</td>\n",
       "      <td>3.0</td>\n",
       "      <td>52.0</td>\n",
       "      <td>0.0</td>\n",
       "      <td>This keyboard is in great condition and works ...</td>\n",
       "      <td>14.0</td>\n",
       "      <td>6.0</td>\n",
       "      <td>57.0</td>\n",
       "      <td>346.0</td>\n",
       "      <td>...</td>\n",
       "      <td>-0.024268</td>\n",
       "      <td>0.007134</td>\n",
       "      <td>0.000072</td>\n",
       "      <td>0.000028</td>\n",
       "      <td>0.000046</td>\n",
       "      <td>-0.000113</td>\n",
       "      <td>0.000140</td>\n",
       "      <td>0.000704</td>\n",
       "      <td>0.000116</td>\n",
       "      <td>-0.000068</td>\n",
       "    </tr>\n",
       "    <tr>\n",
       "      <th>2</th>\n",
       "      <td>2.0</td>\n",
       "      <td>AVA-VIV Blouse</td>\n",
       "      <td>1.0</td>\n",
       "      <td>10.0</td>\n",
       "      <td>1.0</td>\n",
       "      <td>Adorable top with a hint of lace and a key hol...</td>\n",
       "      <td>10.0</td>\n",
       "      <td>7.0</td>\n",
       "      <td>78.0</td>\n",
       "      <td>779.0</td>\n",
       "      <td>...</td>\n",
       "      <td>0.033830</td>\n",
       "      <td>-0.007676</td>\n",
       "      <td>0.001766</td>\n",
       "      <td>0.001049</td>\n",
       "      <td>0.001459</td>\n",
       "      <td>-0.002691</td>\n",
       "      <td>0.004351</td>\n",
       "      <td>0.001041</td>\n",
       "      <td>-0.005911</td>\n",
       "      <td>-0.000358</td>\n",
       "    </tr>\n",
       "    <tr>\n",
       "      <th>3</th>\n",
       "      <td>3.0</td>\n",
       "      <td>Leather Horse Statues</td>\n",
       "      <td>1.0</td>\n",
       "      <td>35.0</td>\n",
       "      <td>1.0</td>\n",
       "      <td>New with tags. Leather horses. Retail for [rm]...</td>\n",
       "      <td>14.0</td>\n",
       "      <td>5.0</td>\n",
       "      <td>97.0</td>\n",
       "      <td>791.0</td>\n",
       "      <td>...</td>\n",
       "      <td>0.174835</td>\n",
       "      <td>0.068481</td>\n",
       "      <td>0.002450</td>\n",
       "      <td>0.001945</td>\n",
       "      <td>0.000820</td>\n",
       "      <td>-0.003679</td>\n",
       "      <td>0.007046</td>\n",
       "      <td>0.006145</td>\n",
       "      <td>-0.007749</td>\n",
       "      <td>-0.006576</td>\n",
       "    </tr>\n",
       "    <tr>\n",
       "      <th>4</th>\n",
       "      <td>4.0</td>\n",
       "      <td>24K GOLD plated rose</td>\n",
       "      <td>1.0</td>\n",
       "      <td>44.0</td>\n",
       "      <td>0.0</td>\n",
       "      <td>Complete with certificate of authenticity</td>\n",
       "      <td>3.0</td>\n",
       "      <td>7.0</td>\n",
       "      <td>25.0</td>\n",
       "      <td>143.0</td>\n",
       "      <td>...</td>\n",
       "      <td>0.003313</td>\n",
       "      <td>0.001375</td>\n",
       "      <td>0.005634</td>\n",
       "      <td>0.005312</td>\n",
       "      <td>0.001977</td>\n",
       "      <td>-0.006590</td>\n",
       "      <td>0.009280</td>\n",
       "      <td>0.030234</td>\n",
       "      <td>-0.005529</td>\n",
       "      <td>-0.004299</td>\n",
       "    </tr>\n",
       "  </tbody>\n",
       "</table>\n",
       "<p>5 rows × 25 columns</p>\n",
       "</div>"
      ],
      "text/plain": [
       "   train_id                                 name  item_condition_id  price  \\\n",
       "0       0.0  MLB Cincinnati Reds T Shirt Size XL                3.0   10.0   \n",
       "1       1.0     Razer BlackWidow Chroma Keyboard                3.0   52.0   \n",
       "2       2.0                       AVA-VIV Blouse                1.0   10.0   \n",
       "3       3.0                Leather Horse Statues                1.0   35.0   \n",
       "4       4.0                 24K GOLD plated rose                1.0   44.0   \n",
       "\n",
       "   shipping                                   item_description  desc_len  \\\n",
       "0       1.0                                 No description yet       1.0   \n",
       "1       0.0  This keyboard is in great condition and works ...      14.0   \n",
       "2       1.0  Adorable top with a hint of lace and a key hol...      10.0   \n",
       "3       1.0  New with tags. Leather horses. Retail for [rm]...      14.0   \n",
       "4       0.0          Complete with certificate of authenticity       3.0   \n",
       "\n",
       "   cat_1_label  cat_2_label  cat_3_lable     ...      svd_item_4  svd_item_5  \\\n",
       "0          2.0         53.0        299.0     ...       -0.000828   -0.000112   \n",
       "1          6.0         57.0        346.0     ...       -0.024268    0.007134   \n",
       "2          7.0         78.0        779.0     ...        0.033830   -0.007676   \n",
       "3          5.0         97.0        791.0     ...        0.174835    0.068481   \n",
       "4          7.0         25.0        143.0     ...        0.003313    0.001375   \n",
       "\n",
       "   svd_name_0  svd_name_1  svd_name_2  svd_name_3  svd_name_4  svd_name_5  \\\n",
       "0    0.051447    0.029832    0.020830   -0.067094    0.126499   -0.027318   \n",
       "1    0.000072    0.000028    0.000046   -0.000113    0.000140    0.000704   \n",
       "2    0.001766    0.001049    0.001459   -0.002691    0.004351    0.001041   \n",
       "3    0.002450    0.001945    0.000820   -0.003679    0.007046    0.006145   \n",
       "4    0.005634    0.005312    0.001977   -0.006590    0.009280    0.030234   \n",
       "\n",
       "   svd_name_6  svd_name_7  \n",
       "0   -0.099446    0.079905  \n",
       "1    0.000116   -0.000068  \n",
       "2   -0.005911   -0.000358  \n",
       "3   -0.007749   -0.006576  \n",
       "4   -0.005529   -0.004299  \n",
       "\n",
       "[5 rows x 25 columns]"
      ]
     },
     "execution_count": 26,
     "metadata": {},
     "output_type": "execute_result"
    }
   ],
   "source": [
    "train_df.head()"
   ]
  },
  {
   "cell_type": "code",
   "execution_count": 27,
   "metadata": {},
   "outputs": [],
   "source": [
    "# Промежуточное сохранение результатов\n",
    "train_df.to_csv('train_checkpoint.csv', index=False)\n",
    "test_df.to_csv('test_checkpoint.csv', index=False)"
   ]
  },
  {
   "cell_type": "markdown",
   "metadata": {},
   "source": [
    "### Final data sets"
   ]
  },
  {
   "cell_type": "markdown",
   "metadata": {},
   "source": [
    "Мы видим, что в итоге количество признаков в тестовой выборке превышает таковое в обучающей на единицу - признак price. Значит, данные были обработаны корректно."
   ]
  },
  {
   "cell_type": "code",
   "execution_count": 28,
   "metadata": {},
   "outputs": [
    {
     "name": "stdout",
     "output_type": "stream",
     "text": [
      "25\n",
      "24\n"
     ]
    }
   ],
   "source": [
    "print(train_df.shape[1])\n",
    "print(test_df.shape[1])"
   ]
  },
  {
   "cell_type": "code",
   "execution_count": 29,
   "metadata": {},
   "outputs": [],
   "source": [
    "train_final = train_df.copy()\n",
    "test_final = test_df.copy()"
   ]
  },
  {
   "cell_type": "markdown",
   "metadata": {},
   "source": [
    "Избавимся от более не нужных признаков (train_id/test_id, name, item_description), заполним пустые значения в наборах данных и сохраним результаты в отдельные файлы."
   ]
  },
  {
   "cell_type": "code",
   "execution_count": 30,
   "metadata": {},
   "outputs": [],
   "source": [
    "train_final = train_final.drop(columns=['train_id', 'name', 'item_description'])\n",
    "test_final = test_final.drop(columns=['test_id', 'name', 'item_description'])"
   ]
  },
  {
   "cell_type": "code",
   "execution_count": 31,
   "metadata": {},
   "outputs": [],
   "source": [
    "train_final.fillna(0, inplace=True)\n",
    "test_final.fillna(0, inplace=True)"
   ]
  },
  {
   "cell_type": "code",
   "execution_count": 32,
   "metadata": {},
   "outputs": [],
   "source": [
    "train_final.to_csv('train_final.csv', index=False)\n",
    "test_final.to_csv('test_final.csv', index=False)"
   ]
  },
  {
   "cell_type": "markdown",
   "metadata": {},
   "source": [
    "После обработки количество признаков для обучения стало равным 22."
   ]
  },
  {
   "cell_type": "code",
   "execution_count": 33,
   "metadata": {},
   "outputs": [
    {
     "data": {
      "text/html": [
       "<div>\n",
       "<style scoped>\n",
       "    .dataframe tbody tr th:only-of-type {\n",
       "        vertical-align: middle;\n",
       "    }\n",
       "\n",
       "    .dataframe tbody tr th {\n",
       "        vertical-align: top;\n",
       "    }\n",
       "\n",
       "    .dataframe thead th {\n",
       "        text-align: right;\n",
       "    }\n",
       "</style>\n",
       "<table border=\"1\" class=\"dataframe\">\n",
       "  <thead>\n",
       "    <tr style=\"text-align: right;\">\n",
       "      <th></th>\n",
       "      <th>item_condition_id</th>\n",
       "      <th>price</th>\n",
       "      <th>shipping</th>\n",
       "      <th>desc_len</th>\n",
       "      <th>cat_1_label</th>\n",
       "      <th>cat_2_label</th>\n",
       "      <th>cat_3_lable</th>\n",
       "      <th>brand_label</th>\n",
       "      <th>svd_item_0</th>\n",
       "      <th>svd_item_1</th>\n",
       "      <th>...</th>\n",
       "      <th>svd_item_4</th>\n",
       "      <th>svd_item_5</th>\n",
       "      <th>svd_name_0</th>\n",
       "      <th>svd_name_1</th>\n",
       "      <th>svd_name_2</th>\n",
       "      <th>svd_name_3</th>\n",
       "      <th>svd_name_4</th>\n",
       "      <th>svd_name_5</th>\n",
       "      <th>svd_name_6</th>\n",
       "      <th>svd_name_7</th>\n",
       "    </tr>\n",
       "  </thead>\n",
       "  <tbody>\n",
       "    <tr>\n",
       "      <th>0</th>\n",
       "      <td>3.0</td>\n",
       "      <td>10.0</td>\n",
       "      <td>1.0</td>\n",
       "      <td>1.0</td>\n",
       "      <td>2.0</td>\n",
       "      <td>53.0</td>\n",
       "      <td>299.0</td>\n",
       "      <td>0.0</td>\n",
       "      <td>0.999997</td>\n",
       "      <td>-0.001772</td>\n",
       "      <td>...</td>\n",
       "      <td>-0.000828</td>\n",
       "      <td>-0.000112</td>\n",
       "      <td>0.051447</td>\n",
       "      <td>0.029832</td>\n",
       "      <td>0.020830</td>\n",
       "      <td>-0.067094</td>\n",
       "      <td>0.126499</td>\n",
       "      <td>-0.027318</td>\n",
       "      <td>-0.099446</td>\n",
       "      <td>0.079905</td>\n",
       "    </tr>\n",
       "    <tr>\n",
       "      <th>1</th>\n",
       "      <td>3.0</td>\n",
       "      <td>52.0</td>\n",
       "      <td>0.0</td>\n",
       "      <td>14.0</td>\n",
       "      <td>6.0</td>\n",
       "      <td>57.0</td>\n",
       "      <td>346.0</td>\n",
       "      <td>1933.0</td>\n",
       "      <td>0.000138</td>\n",
       "      <td>0.068283</td>\n",
       "      <td>...</td>\n",
       "      <td>-0.024268</td>\n",
       "      <td>0.007134</td>\n",
       "      <td>0.000072</td>\n",
       "      <td>0.000028</td>\n",
       "      <td>0.000046</td>\n",
       "      <td>-0.000113</td>\n",
       "      <td>0.000140</td>\n",
       "      <td>0.000704</td>\n",
       "      <td>0.000116</td>\n",
       "      <td>-0.000068</td>\n",
       "    </tr>\n",
       "    <tr>\n",
       "      <th>2</th>\n",
       "      <td>1.0</td>\n",
       "      <td>10.0</td>\n",
       "      <td>1.0</td>\n",
       "      <td>10.0</td>\n",
       "      <td>7.0</td>\n",
       "      <td>78.0</td>\n",
       "      <td>779.0</td>\n",
       "      <td>2235.0</td>\n",
       "      <td>0.000129</td>\n",
       "      <td>0.037782</td>\n",
       "      <td>...</td>\n",
       "      <td>0.033830</td>\n",
       "      <td>-0.007676</td>\n",
       "      <td>0.001766</td>\n",
       "      <td>0.001049</td>\n",
       "      <td>0.001459</td>\n",
       "      <td>-0.002691</td>\n",
       "      <td>0.004351</td>\n",
       "      <td>0.001041</td>\n",
       "      <td>-0.005911</td>\n",
       "      <td>-0.000358</td>\n",
       "    </tr>\n",
       "    <tr>\n",
       "      <th>3</th>\n",
       "      <td>1.0</td>\n",
       "      <td>35.0</td>\n",
       "      <td>1.0</td>\n",
       "      <td>14.0</td>\n",
       "      <td>5.0</td>\n",
       "      <td>97.0</td>\n",
       "      <td>791.0</td>\n",
       "      <td>0.0</td>\n",
       "      <td>0.000498</td>\n",
       "      <td>0.174783</td>\n",
       "      <td>...</td>\n",
       "      <td>0.174835</td>\n",
       "      <td>0.068481</td>\n",
       "      <td>0.002450</td>\n",
       "      <td>0.001945</td>\n",
       "      <td>0.000820</td>\n",
       "      <td>-0.003679</td>\n",
       "      <td>0.007046</td>\n",
       "      <td>0.006145</td>\n",
       "      <td>-0.007749</td>\n",
       "      <td>-0.006576</td>\n",
       "    </tr>\n",
       "    <tr>\n",
       "      <th>4</th>\n",
       "      <td>1.0</td>\n",
       "      <td>44.0</td>\n",
       "      <td>0.0</td>\n",
       "      <td>3.0</td>\n",
       "      <td>7.0</td>\n",
       "      <td>25.0</td>\n",
       "      <td>143.0</td>\n",
       "      <td>0.0</td>\n",
       "      <td>0.000018</td>\n",
       "      <td>0.002647</td>\n",
       "      <td>...</td>\n",
       "      <td>0.003313</td>\n",
       "      <td>0.001375</td>\n",
       "      <td>0.005634</td>\n",
       "      <td>0.005312</td>\n",
       "      <td>0.001977</td>\n",
       "      <td>-0.006590</td>\n",
       "      <td>0.009280</td>\n",
       "      <td>0.030234</td>\n",
       "      <td>-0.005529</td>\n",
       "      <td>-0.004299</td>\n",
       "    </tr>\n",
       "  </tbody>\n",
       "</table>\n",
       "<p>5 rows × 22 columns</p>\n",
       "</div>"
      ],
      "text/plain": [
       "   item_condition_id  price  shipping  desc_len  cat_1_label  cat_2_label  \\\n",
       "0                3.0   10.0       1.0       1.0          2.0         53.0   \n",
       "1                3.0   52.0       0.0      14.0          6.0         57.0   \n",
       "2                1.0   10.0       1.0      10.0          7.0         78.0   \n",
       "3                1.0   35.0       1.0      14.0          5.0         97.0   \n",
       "4                1.0   44.0       0.0       3.0          7.0         25.0   \n",
       "\n",
       "   cat_3_lable  brand_label  svd_item_0  svd_item_1     ...      svd_item_4  \\\n",
       "0        299.0          0.0    0.999997   -0.001772     ...       -0.000828   \n",
       "1        346.0       1933.0    0.000138    0.068283     ...       -0.024268   \n",
       "2        779.0       2235.0    0.000129    0.037782     ...        0.033830   \n",
       "3        791.0          0.0    0.000498    0.174783     ...        0.174835   \n",
       "4        143.0          0.0    0.000018    0.002647     ...        0.003313   \n",
       "\n",
       "   svd_item_5  svd_name_0  svd_name_1  svd_name_2  svd_name_3  svd_name_4  \\\n",
       "0   -0.000112    0.051447    0.029832    0.020830   -0.067094    0.126499   \n",
       "1    0.007134    0.000072    0.000028    0.000046   -0.000113    0.000140   \n",
       "2   -0.007676    0.001766    0.001049    0.001459   -0.002691    0.004351   \n",
       "3    0.068481    0.002450    0.001945    0.000820   -0.003679    0.007046   \n",
       "4    0.001375    0.005634    0.005312    0.001977   -0.006590    0.009280   \n",
       "\n",
       "   svd_name_5  svd_name_6  svd_name_7  \n",
       "0   -0.027318   -0.099446    0.079905  \n",
       "1    0.000704    0.000116   -0.000068  \n",
       "2    0.001041   -0.005911   -0.000358  \n",
       "3    0.006145   -0.007749   -0.006576  \n",
       "4    0.030234   -0.005529   -0.004299  \n",
       "\n",
       "[5 rows x 22 columns]"
      ]
     },
     "execution_count": 33,
     "metadata": {},
     "output_type": "execute_result"
    }
   ],
   "source": [
    "train_final.head()"
   ]
  },
  {
   "cell_type": "markdown",
   "metadata": {},
   "source": [
    "# Построение моделей"
   ]
  },
  {
   "cell_type": "markdown",
   "metadata": {},
   "source": [
    "Теперь наши данные готовы для работы."
   ]
  },
  {
   "cell_type": "code",
   "execution_count": 2,
   "metadata": {},
   "outputs": [],
   "source": [
    "import io\n",
    "from sklearn.model_selection import train_test_split"
   ]
  },
  {
   "cell_type": "markdown",
   "metadata": {},
   "source": [
    "Введем функцию ошибки."
   ]
  },
  {
   "cell_type": "code",
   "execution_count": 3,
   "metadata": {},
   "outputs": [],
   "source": [
    "def rmsle(y, y_pred):\n",
    "    assert len(y) == len(y_pred)\n",
    "    to_sum = [(math.log(y_pred[i] + 1) - math.log(y[i] + 1)) ** 2.0 for i,pred in enumerate(y_pred)]\n",
    "    return (sum(to_sum) * (1.0/len(y))) ** 0.5"
   ]
  },
  {
   "cell_type": "markdown",
   "metadata": {},
   "source": [
    "Загрузим обработанные данные."
   ]
  },
  {
   "cell_type": "code",
   "execution_count": 4,
   "metadata": {},
   "outputs": [],
   "source": [
    "train = pd.read_csv('train_final.csv')\n",
    "test = pd.read_csv('test_final.csv')"
   ]
  },
  {
   "cell_type": "markdown",
   "metadata": {},
   "source": [
    "Разделим первый набор данных на выборку для обучения и выборку для валидации."
   ]
  },
  {
   "cell_type": "code",
   "execution_count": 5,
   "metadata": {},
   "outputs": [],
   "source": [
    "y = np.log(train['price'].values + 1)\n",
    "X = train.drop(columns=['price']).values\n",
    "\n",
    "(X_train, X_valid, y_train, y_valid) = train_test_split(X, y, test_size=0.3, shuffle=True)"
   ]
  },
  {
   "cell_type": "markdown",
   "metadata": {},
   "source": [
    "Выделим тестовую выборку."
   ]
  },
  {
   "cell_type": "code",
   "execution_count": 6,
   "metadata": {},
   "outputs": [],
   "source": [
    "X_test = test.values"
   ]
  },
  {
   "cell_type": "markdown",
   "metadata": {},
   "source": [
    "## Baseline solution"
   ]
  },
  {
   "cell_type": "markdown",
   "metadata": {},
   "source": [
    "В качестве наивного baseline решения рассмотрим несколько линейных регрессоров без настройки параметров. Это не займет много времени и принесет вполне удовлетворительный результат."
   ]
  },
  {
   "cell_type": "markdown",
   "metadata": {},
   "source": [
    "### Linear Regression"
   ]
  },
  {
   "cell_type": "markdown",
   "metadata": {},
   "source": [
    "Kaggle score: 0.52938"
   ]
  },
  {
   "cell_type": "code",
   "execution_count": 8,
   "metadata": {},
   "outputs": [],
   "source": [
    "from sklearn.linear_model import LinearRegression\n",
    "from sklearn.model_selection import cross_val_score, cross_val_predict"
   ]
  },
  {
   "cell_type": "code",
   "execution_count": 9,
   "metadata": {},
   "outputs": [
    {
     "data": {
      "text/plain": [
       "LinearRegression(copy_X=True, fit_intercept=True, n_jobs=1, normalize=False)"
      ]
     },
     "execution_count": 9,
     "metadata": {},
     "output_type": "execute_result"
    }
   ],
   "source": [
    "lr_model = LinearRegression()\n",
    "lr_model.fit(X_train, y_train)"
   ]
  },
  {
   "cell_type": "markdown",
   "metadata": {},
   "source": [
    "Посмотрим, какой результат покажет данная модель на выборке для валидации."
   ]
  },
  {
   "cell_type": "code",
   "execution_count": 17,
   "metadata": {},
   "outputs": [],
   "source": [
    "y_test = lr_model.predict(X_test)"
   ]
  },
  {
   "cell_type": "markdown",
   "metadata": {},
   "source": [
    "Запишем результаты на тестовой выборке в отдельный файл для отправки на Kaggle."
   ]
  },
  {
   "cell_type": "code",
   "execution_count": 33,
   "metadata": {},
   "outputs": [],
   "source": [
    "submission = pd.DataFrame(columns=['test_id', 'price'])\n",
    "submission['test_id'] = [i for i in range(len(y_test))]\n",
    "submission['price'] = np.exp(y_test) - 1\n",
    "submission.to_csv('linear_reg_mercari_submission.csv', index=False)"
   ]
  },
  {
   "cell_type": "markdown",
   "metadata": {},
   "source": [
    "### Lasso Regression"
   ]
  },
  {
   "cell_type": "markdown",
   "metadata": {},
   "source": [
    "Kaggle score: 0.54275"
   ]
  },
  {
   "cell_type": "markdown",
   "metadata": {},
   "source": [
    "Теперь построим модели с регуляризаторами. Возможно, они помогут нам решить проблему мультиколлинеарности."
   ]
  },
  {
   "cell_type": "code",
   "execution_count": 19,
   "metadata": {},
   "outputs": [],
   "source": [
    "from sklearn.linear_model import Lasso"
   ]
  },
  {
   "cell_type": "code",
   "execution_count": 21,
   "metadata": {},
   "outputs": [
    {
     "data": {
      "text/plain": [
       "Lasso(alpha=1.0, copy_X=True, fit_intercept=True, max_iter=1000,\n",
       "   normalize=False, positive=False, precompute=False, random_state=None,\n",
       "   selection='cyclic', tol=0.0001, warm_start=False)"
      ]
     },
     "execution_count": 21,
     "metadata": {},
     "output_type": "execute_result"
    }
   ],
   "source": [
    "lasso_model = Lasso()\n",
    "lasso_model.fit(X_train, y_train)"
   ]
  },
  {
   "cell_type": "code",
   "execution_count": 23,
   "metadata": {},
   "outputs": [],
   "source": [
    "y_test = lasso_model.predict(X_test)"
   ]
  },
  {
   "cell_type": "code",
   "execution_count": 24,
   "metadata": {},
   "outputs": [],
   "source": [
    "submission = pd.DataFrame(columns=['test_id', 'price'])\n",
    "submission['test_id'] = [i for i in range(len(y_test))]\n",
    "submission['price'] = np.exp(y_test) - 1\n",
    "submission.to_csv('lasso_mercari_submission.csv', index=False)"
   ]
  },
  {
   "cell_type": "markdown",
   "metadata": {},
   "source": [
    "### Ridge Regression"
   ]
  },
  {
   "cell_type": "markdown",
   "metadata": {},
   "source": [
    "Kaggle score: 0.50797"
   ]
  },
  {
   "cell_type": "code",
   "execution_count": 25,
   "metadata": {},
   "outputs": [],
   "source": [
    "from sklearn.linear_model import Ridge"
   ]
  },
  {
   "cell_type": "code",
   "execution_count": 26,
   "metadata": {},
   "outputs": [
    {
     "data": {
      "text/plain": [
       "Ridge(alpha=1.0, copy_X=True, fit_intercept=True, max_iter=None,\n",
       "   normalize=False, random_state=None, solver='auto', tol=0.001)"
      ]
     },
     "execution_count": 26,
     "metadata": {},
     "output_type": "execute_result"
    }
   ],
   "source": [
    "ridge_model = Ridge()\n",
    "ridge_model.fit(X_train, y_train)"
   ]
  },
  {
   "cell_type": "code",
   "execution_count": 31,
   "metadata": {},
   "outputs": [],
   "source": [
    "y_test = ridge_model.predict(X_test)"
   ]
  },
  {
   "cell_type": "code",
   "execution_count": 32,
   "metadata": {},
   "outputs": [],
   "source": [
    "submission = pd.DataFrame(columns=['test_id', 'price'])\n",
    "submission['test_id'] = [i for i in range(len(y_test))]\n",
    "submission['price'] = np.exp(y_test) - 1\n",
    "submission.to_csv('ridge_mercari_submission.csv', index=False)"
   ]
  },
  {
   "cell_type": "markdown",
   "metadata": {},
   "source": [
    "Оценим качество построенных моделей методов кросс-валидации, разбив выборку на 3 фолда."
   ]
  },
  {
   "cell_type": "code",
   "execution_count": 37,
   "metadata": {},
   "outputs": [
    {
     "name": "stdout",
     "output_type": "stream",
     "text": [
      "Linear Regression score: 0.50686358844\n",
      "Lasso Regression score: 0.539636138827\n",
      "Ridge Regression score: 0.506863574831\n"
     ]
    }
   ],
   "source": [
    "print 'Linear Regression score:',abs(cross_val_score(lr_model, X_valid, y_valid, scoring='neg_mean_squared_error').mean())\n",
    "print 'Lasso Regression score:',abs(cross_val_score(lasso_model, X_valid, y_valid, scoring='neg_mean_squared_error').mean())\n",
    "print 'Ridge Regression score:',abs(cross_val_score(ridge_model, X_valid, y_valid, scoring='neg_mean_squared_error').mean())"
   ]
  },
  {
   "cell_type": "markdown",
   "metadata": {},
   "source": [
    "Как видно, введение регуляризаторов было хорошей идеей и лучший результат среди линейных моделей показал именно Ridge Regressor. Данная тенденция наблюдается как на выборке для валидации, так и на тестовой выборке."
   ]
  },
  {
   "cell_type": "markdown",
   "metadata": {},
   "source": [
    "## XGBoost"
   ]
  },
  {
   "cell_type": "markdown",
   "metadata": {},
   "source": [
    "Kaggle score: 0.58861"
   ]
  },
  {
   "cell_type": "markdown",
   "metadata": {},
   "source": [
    "В качестве кандидата на основное решение возьмем бустинг над решающими деревьями и сравним его с линейными моделями. Мы не будем строить случайный лес, поскольку обучение займет слишком много времени."
   ]
  },
  {
   "cell_type": "code",
   "execution_count": 7,
   "metadata": {},
   "outputs": [],
   "source": [
    "import os\n",
    "mingw_path = 'C:\\\\Program Files\\\\mingw-w64\\\\x86_64-7.3.0-posix-seh-rt_v5-rev0\\\\mingw64\\\\bin'\n",
    "os.environ['PATH'] = mingw_path + ';' + os.environ['PATH']\n",
    "import xgboost as xgb"
   ]
  },
  {
   "cell_type": "code",
   "execution_count": 8,
   "metadata": {},
   "outputs": [],
   "source": [
    "dtrain = xgb.DMatrix(X_train, label=y_train)\n",
    "dvalid = xgb.DMatrix(X_valid, label=y_valid)\n",
    "dtest = xgb.DMatrix(X_test)\n",
    "watchlist = [(dtrain, 'train'), (dvalid, 'valid')]"
   ]
  },
  {
   "cell_type": "markdown",
   "metadata": {},
   "source": [
    "Проведем осознанный последовательный подбор параметров с целью получения наименьшего значения ошибки."
   ]
  },
  {
   "cell_type": "code",
   "execution_count": 9,
   "metadata": {},
   "outputs": [],
   "source": [
    "xgb_par = {'min_child_weight': 20, 'eta': 0.05, 'colsample_bytree': 0.5, 'max_depth': 5,\n",
    "            'subsample': 0.9, 'lambda': 2.0, 'nthread': -1, 'booster' : 'gbtree', 'silent': 1,\n",
    "            'eval_metric': 'rmse', 'objective': 'reg:linear'}"
   ]
  },
  {
   "cell_type": "code",
   "execution_count": 10,
   "metadata": {},
   "outputs": [
    {
     "name": "stdout",
     "output_type": "stream",
     "text": [
      "[0]\ttrain-rmse:2.46929\tvalid-rmse:2.46641\n",
      "Multiple eval metrics have been passed: 'valid-rmse' will be used for early stopping.\n",
      "\n",
      "Will train until valid-rmse hasn't improved in 20 rounds.\n",
      "[20]\ttrain-rmse:1.04817\tvalid-rmse:1.04964\n",
      "[40]\ttrain-rmse:0.635413\tvalid-rmse:0.653124\n",
      "[60]\ttrain-rmse:0.538394\tvalid-rmse:0.572496\n",
      "[80]\ttrain-rmse:0.506957\tvalid-rmse:0.553227\n",
      "[99]\ttrain-rmse:0.49143\tvalid-rmse:0.547367\n"
     ]
    }
   ],
   "source": [
    "xgb_model = xgb.train(xgb_par, dtrain, 100, watchlist, early_stopping_rounds=20, maximize=False, verbose_eval=20)"
   ]
  },
  {
   "cell_type": "code",
   "execution_count": 11,
   "metadata": {},
   "outputs": [],
   "source": [
    "y_test = xgb_model.predict(dtest)"
   ]
  },
  {
   "cell_type": "code",
   "execution_count": 12,
   "metadata": {},
   "outputs": [],
   "source": [
    "submission = pd.DataFrame(columns=['test_id', 'price'])\n",
    "submission['test_id'] = [i for i in range(len(y_test))]\n",
    "submission['price'] = np.exp(y_test) - 1\n",
    "submission.to_csv('xgboost_mercari_submission.csv', index=False)"
   ]
  },
  {
   "cell_type": "markdown",
   "metadata": {},
   "source": [
    "По сравнению с простыми линейными регрессорами, xgboost показал более плохой результат. Вероятно, это связано с тем фактом, что бустинг не может уловить сложные зависимости между частотами вхождений слов и их комбинациями."
   ]
  },
  {
   "cell_type": "markdown",
   "metadata": {},
   "source": [
    "# Выводы"
   ]
  },
  {
   "cell_type": "markdown",
   "metadata": {},
   "source": [
    "При решении данной задачи мы провели подробный анализ данных и преобразовали категориальные признаки. Названиям брендов и категорий были присвоены уникальные индексы, а описания товаров и их названия были преобразованы при помощи tf-idf. Для сокращения размерности полученных данных мы использовали SVD разложение с последующим выбором оптимального количества компонент. Данный метод довольно эффективен, но появляется возможность потери информации."
   ]
  },
  {
   "cell_type": "markdown",
   "metadata": {},
   "source": [
    "Для прогнозирования значений цены на тестовой выборке были построены следующие модели: Linear Regressor, Lasso Regressor, Ridge Regressor, XGBoost. Наименьшее значение ошибки 0.50797 было получено при помощи линейного регрессора с $L_2$-регуляризацией. Применение сложной модели бустинга над решающими деревьями с настройкой параметров не дало выигрыша."
   ]
  },
  {
   "cell_type": "markdown",
   "metadata": {},
   "source": [
    "Для дальнейшего улучшения полученных результатов можно рассмотреть подход, когда название товара и его описание рассматриваются в совокупности друг с другом, т.е. эти два признака объединяются. Также предлагается больше внимания уделить категориям товаров, назначая близкие по значению цены товарам, оказавшимся в одной категории."
   ]
  }
 ],
 "metadata": {
  "kernelspec": {
   "display_name": "Python 2",
   "language": "python",
   "name": "python2"
  },
  "language_info": {
   "codemirror_mode": {
    "name": "ipython",
    "version": 2
   },
   "file_extension": ".py",
   "mimetype": "text/x-python",
   "name": "python",
   "nbconvert_exporter": "python",
   "pygments_lexer": "ipython2",
   "version": "2.7.14"
  }
 },
 "nbformat": 4,
 "nbformat_minor": 2
}
